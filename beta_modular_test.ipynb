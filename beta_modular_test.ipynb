{
 "cells": [
  {
   "cell_type": "code",
   "execution_count": 1,
   "metadata": {
    "tags": []
   },
   "outputs": [
    {
     "name": "stdout",
     "output_type": "stream",
     "text": [
      "Creating modular beta fitting interface...\n",
      "Interface created successfully!\n",
      "Found 8 galaxy files in the current directory.\n",
      "\n",
      "Module separation:\n",
      "- beta_modeling.py: Contains all Sherpa functionality and data extraction\n",
      "- beta_plotting.py: Pure matplotlib plotting with no Sherpa dependencies\n",
      "- beta_interface.py: ipywidgets interface that coordinates both modules\n",
      "\n",
      "The interface should auto-load the first galaxy below:\n"
     ]
    },
    {
     "data": {
      "application/vnd.jupyter.widget-view+json": {
       "model_id": "d2e6f09822304ff98e4309999a18b0b2",
       "version_major": 2,
       "version_minor": 0
      },
      "text/plain": [
       "HBox(children=(VBox(children=(HTML(value='<h4>Image Settings</h4>'), Dropdown(description='Galaxy: ', layout=L…"
      ]
     },
     "execution_count": 1,
     "metadata": {},
     "output_type": "execute_result"
    }
   ],
   "source": [
    "# Import the modular components\n",
    "from beta_interface import create_beta_fitting_interface\n",
    "\n",
    "print(\"Creating modular beta fitting interface...\")\n",
    "interface, tool = create_beta_fitting_interface()\n",
    "\n",
    "print(\"Interface created successfully!\")\n",
    "print(f\"Found {len(tool.galaxy_files)} galaxy files in the current directory.\")\n",
    "print(\"\")\n",
    "print(\"Module separation:\")\n",
    "print(\"- beta_modeling.py: Contains all Sherpa functionality and data extraction\")\n",
    "print(\"- beta_plotting.py: Pure matplotlib plotting with no Sherpa dependencies\")\n",
    "print(\"- beta_interface.py: ipywidgets interface that coordinates both modules\")\n",
    "print(\"\")\n",
    "print(\"The interface should auto-load the first galaxy below:\")\n",
    "\n",
    "# Display the interface\n",
    "interface"
   ]
  },
  {
   "cell_type": "code",
   "execution_count": null,
   "metadata": {},
   "outputs": [],
   "source": []
  }
 ],
 "metadata": {
  "kernelspec": {
   "display_name": "Python 3 (ipykernel)",
   "language": "python",
   "name": "python3"
  },
  "language_info": {
   "codemirror_mode": {
    "name": "ipython",
    "version": 3
   },
   "file_extension": ".py",
   "mimetype": "text/x-python",
   "name": "python",
   "nbconvert_exporter": "python",
   "pygments_lexer": "ipython3",
   "version": "3.11.6"
  }
 },
 "nbformat": 4,
 "nbformat_minor": 4
}
